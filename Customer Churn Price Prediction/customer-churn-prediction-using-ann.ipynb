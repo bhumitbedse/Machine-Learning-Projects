{
 "cells": [
  {
   "cell_type": "markdown",
   "metadata": {},
   "source": [
    "### TITLE : ANN LAB <br>\n",
    "Work : This is the Customer churn prediction project which i made on kaggle platform using ANN <br>\n",
    "Author : Bhumit Bedse <br>\n",
    "ID : 19CP012<br>\n",
    "LINK OF PROJECT : https://www.kaggle.com/code/bhumitbedse12/customer-churn-prediction-using-ann"
   ]
  },
  {
   "cell_type": "code",
   "execution_count": 1,
   "metadata": {
    "_cell_guid": "b1076dfc-b9ad-4769-8c92-a6c4dae69d19",
    "_uuid": "8f2839f25d086af736a60e9eeb907d3b93b6e0e5",
    "execution": {
     "iopub.execute_input": "2022-03-08T18:03:09.091596Z",
     "iopub.status.busy": "2022-03-08T18:03:09.091309Z",
     "iopub.status.idle": "2022-03-08T18:03:09.098781Z",
     "shell.execute_reply": "2022-03-08T18:03:09.098137Z",
     "shell.execute_reply.started": "2022-03-08T18:03:09.091568Z"
    }
   },
   "outputs": [],
   "source": [
    "import numpy as np # linear algebra\n",
    "import pandas as pd # data processing, CSV file I/O (e.g. pd.read_csv)"
   ]
  },
  {
   "cell_type": "code",
   "execution_count": 2,
   "metadata": {
    "execution": {
     "iopub.execute_input": "2022-03-08T18:03:35.038306Z",
     "iopub.status.busy": "2022-03-08T18:03:35.037408Z",
     "iopub.status.idle": "2022-03-08T18:03:35.106885Z",
     "shell.execute_reply": "2022-03-08T18:03:35.105999Z",
     "shell.execute_reply.started": "2022-03-08T18:03:35.038265Z"
    }
   },
   "outputs": [
    {
     "data": {
      "text/html": [
       "<div>\n",
       "<style scoped>\n",
       "    .dataframe tbody tr th:only-of-type {\n",
       "        vertical-align: middle;\n",
       "    }\n",
       "\n",
       "    .dataframe tbody tr th {\n",
       "        vertical-align: top;\n",
       "    }\n",
       "\n",
       "    .dataframe thead th {\n",
       "        text-align: right;\n",
       "    }\n",
       "</style>\n",
       "<table border=\"1\" class=\"dataframe\">\n",
       "  <thead>\n",
       "    <tr style=\"text-align: right;\">\n",
       "      <th></th>\n",
       "      <th>RowNumber</th>\n",
       "      <th>CustomerId</th>\n",
       "      <th>Surname</th>\n",
       "      <th>CreditScore</th>\n",
       "      <th>Geography</th>\n",
       "      <th>Gender</th>\n",
       "      <th>Age</th>\n",
       "      <th>Tenure</th>\n",
       "      <th>Balance</th>\n",
       "      <th>NumOfProducts</th>\n",
       "      <th>HasCrCard</th>\n",
       "      <th>IsActiveMember</th>\n",
       "      <th>EstimatedSalary</th>\n",
       "      <th>Exited</th>\n",
       "    </tr>\n",
       "  </thead>\n",
       "  <tbody>\n",
       "    <tr>\n",
       "      <th>0</th>\n",
       "      <td>1</td>\n",
       "      <td>15634602</td>\n",
       "      <td>Hargrave</td>\n",
       "      <td>619</td>\n",
       "      <td>France</td>\n",
       "      <td>Female</td>\n",
       "      <td>42</td>\n",
       "      <td>2</td>\n",
       "      <td>0.00</td>\n",
       "      <td>1</td>\n",
       "      <td>1</td>\n",
       "      <td>1</td>\n",
       "      <td>101348.88</td>\n",
       "      <td>1</td>\n",
       "    </tr>\n",
       "    <tr>\n",
       "      <th>1</th>\n",
       "      <td>2</td>\n",
       "      <td>15647311</td>\n",
       "      <td>Hill</td>\n",
       "      <td>608</td>\n",
       "      <td>Spain</td>\n",
       "      <td>Female</td>\n",
       "      <td>41</td>\n",
       "      <td>1</td>\n",
       "      <td>83807.86</td>\n",
       "      <td>1</td>\n",
       "      <td>0</td>\n",
       "      <td>1</td>\n",
       "      <td>112542.58</td>\n",
       "      <td>0</td>\n",
       "    </tr>\n",
       "    <tr>\n",
       "      <th>2</th>\n",
       "      <td>3</td>\n",
       "      <td>15619304</td>\n",
       "      <td>Onio</td>\n",
       "      <td>502</td>\n",
       "      <td>France</td>\n",
       "      <td>Female</td>\n",
       "      <td>42</td>\n",
       "      <td>8</td>\n",
       "      <td>159660.80</td>\n",
       "      <td>3</td>\n",
       "      <td>1</td>\n",
       "      <td>0</td>\n",
       "      <td>113931.57</td>\n",
       "      <td>1</td>\n",
       "    </tr>\n",
       "    <tr>\n",
       "      <th>3</th>\n",
       "      <td>4</td>\n",
       "      <td>15701354</td>\n",
       "      <td>Boni</td>\n",
       "      <td>699</td>\n",
       "      <td>France</td>\n",
       "      <td>Female</td>\n",
       "      <td>39</td>\n",
       "      <td>1</td>\n",
       "      <td>0.00</td>\n",
       "      <td>2</td>\n",
       "      <td>0</td>\n",
       "      <td>0</td>\n",
       "      <td>93826.63</td>\n",
       "      <td>0</td>\n",
       "    </tr>\n",
       "    <tr>\n",
       "      <th>4</th>\n",
       "      <td>5</td>\n",
       "      <td>15737888</td>\n",
       "      <td>Mitchell</td>\n",
       "      <td>850</td>\n",
       "      <td>Spain</td>\n",
       "      <td>Female</td>\n",
       "      <td>43</td>\n",
       "      <td>2</td>\n",
       "      <td>125510.82</td>\n",
       "      <td>1</td>\n",
       "      <td>1</td>\n",
       "      <td>1</td>\n",
       "      <td>79084.10</td>\n",
       "      <td>0</td>\n",
       "    </tr>\n",
       "  </tbody>\n",
       "</table>\n",
       "</div>"
      ],
      "text/plain": [
       "   RowNumber  CustomerId   Surname  CreditScore Geography  Gender  Age  \\\n",
       "0          1    15634602  Hargrave          619    France  Female   42   \n",
       "1          2    15647311      Hill          608     Spain  Female   41   \n",
       "2          3    15619304      Onio          502    France  Female   42   \n",
       "3          4    15701354      Boni          699    France  Female   39   \n",
       "4          5    15737888  Mitchell          850     Spain  Female   43   \n",
       "\n",
       "   Tenure    Balance  NumOfProducts  HasCrCard  IsActiveMember  \\\n",
       "0       2       0.00              1          1               1   \n",
       "1       1   83807.86              1          0               1   \n",
       "2       8  159660.80              3          1               0   \n",
       "3       1       0.00              2          0               0   \n",
       "4       2  125510.82              1          1               1   \n",
       "\n",
       "   EstimatedSalary  Exited  \n",
       "0        101348.88       1  \n",
       "1        112542.58       0  \n",
       "2        113931.57       1  \n",
       "3         93826.63       0  \n",
       "4         79084.10       0  "
      ]
     },
     "execution_count": 2,
     "metadata": {},
     "output_type": "execute_result"
    }
   ],
   "source": [
    "df = pd.read_csv('Churn_Modelling.csv')\n",
    "df.head()"
   ]
  },
  {
   "cell_type": "code",
   "execution_count": 3,
   "metadata": {
    "execution": {
     "iopub.execute_input": "2022-03-08T18:05:31.773296Z",
     "iopub.status.busy": "2022-03-08T18:05:31.772974Z",
     "iopub.status.idle": "2022-03-08T18:05:31.779630Z",
     "shell.execute_reply": "2022-03-08T18:05:31.778802Z",
     "shell.execute_reply.started": "2022-03-08T18:05:31.773261Z"
    }
   },
   "outputs": [
    {
     "data": {
      "text/plain": [
       "(10000, 14)"
      ]
     },
     "execution_count": 3,
     "metadata": {},
     "output_type": "execute_result"
    }
   ],
   "source": [
    "df.shape"
   ]
  },
  {
   "cell_type": "code",
   "execution_count": 4,
   "metadata": {
    "execution": {
     "iopub.execute_input": "2022-03-08T18:08:21.393757Z",
     "iopub.status.busy": "2022-03-08T18:08:21.393035Z",
     "iopub.status.idle": "2022-03-08T18:08:21.413880Z",
     "shell.execute_reply": "2022-03-08T18:08:21.413275Z",
     "shell.execute_reply.started": "2022-03-08T18:08:21.393712Z"
    }
   },
   "outputs": [
    {
     "data": {
      "text/html": [
       "<div>\n",
       "<style scoped>\n",
       "    .dataframe tbody tr th:only-of-type {\n",
       "        vertical-align: middle;\n",
       "    }\n",
       "\n",
       "    .dataframe tbody tr th {\n",
       "        vertical-align: top;\n",
       "    }\n",
       "\n",
       "    .dataframe thead th {\n",
       "        text-align: right;\n",
       "    }\n",
       "</style>\n",
       "<table border=\"1\" class=\"dataframe\">\n",
       "  <thead>\n",
       "    <tr style=\"text-align: right;\">\n",
       "      <th></th>\n",
       "      <th>CreditScore</th>\n",
       "      <th>Geography</th>\n",
       "      <th>Gender</th>\n",
       "      <th>Age</th>\n",
       "      <th>Tenure</th>\n",
       "      <th>Balance</th>\n",
       "      <th>NumOfProducts</th>\n",
       "      <th>HasCrCard</th>\n",
       "      <th>IsActiveMember</th>\n",
       "      <th>EstimatedSalary</th>\n",
       "      <th>Exited</th>\n",
       "    </tr>\n",
       "  </thead>\n",
       "  <tbody>\n",
       "    <tr>\n",
       "      <th>0</th>\n",
       "      <td>619</td>\n",
       "      <td>France</td>\n",
       "      <td>Female</td>\n",
       "      <td>42</td>\n",
       "      <td>2</td>\n",
       "      <td>0.00</td>\n",
       "      <td>1</td>\n",
       "      <td>1</td>\n",
       "      <td>1</td>\n",
       "      <td>101348.88</td>\n",
       "      <td>1</td>\n",
       "    </tr>\n",
       "    <tr>\n",
       "      <th>1</th>\n",
       "      <td>608</td>\n",
       "      <td>Spain</td>\n",
       "      <td>Female</td>\n",
       "      <td>41</td>\n",
       "      <td>1</td>\n",
       "      <td>83807.86</td>\n",
       "      <td>1</td>\n",
       "      <td>0</td>\n",
       "      <td>1</td>\n",
       "      <td>112542.58</td>\n",
       "      <td>0</td>\n",
       "    </tr>\n",
       "    <tr>\n",
       "      <th>2</th>\n",
       "      <td>502</td>\n",
       "      <td>France</td>\n",
       "      <td>Female</td>\n",
       "      <td>42</td>\n",
       "      <td>8</td>\n",
       "      <td>159660.80</td>\n",
       "      <td>3</td>\n",
       "      <td>1</td>\n",
       "      <td>0</td>\n",
       "      <td>113931.57</td>\n",
       "      <td>1</td>\n",
       "    </tr>\n",
       "    <tr>\n",
       "      <th>3</th>\n",
       "      <td>699</td>\n",
       "      <td>France</td>\n",
       "      <td>Female</td>\n",
       "      <td>39</td>\n",
       "      <td>1</td>\n",
       "      <td>0.00</td>\n",
       "      <td>2</td>\n",
       "      <td>0</td>\n",
       "      <td>0</td>\n",
       "      <td>93826.63</td>\n",
       "      <td>0</td>\n",
       "    </tr>\n",
       "    <tr>\n",
       "      <th>4</th>\n",
       "      <td>850</td>\n",
       "      <td>Spain</td>\n",
       "      <td>Female</td>\n",
       "      <td>43</td>\n",
       "      <td>2</td>\n",
       "      <td>125510.82</td>\n",
       "      <td>1</td>\n",
       "      <td>1</td>\n",
       "      <td>1</td>\n",
       "      <td>79084.10</td>\n",
       "      <td>0</td>\n",
       "    </tr>\n",
       "  </tbody>\n",
       "</table>\n",
       "</div>"
      ],
      "text/plain": [
       "   CreditScore Geography  Gender  Age  Tenure    Balance  NumOfProducts  \\\n",
       "0          619    France  Female   42       2       0.00              1   \n",
       "1          608     Spain  Female   41       1   83807.86              1   \n",
       "2          502    France  Female   42       8  159660.80              3   \n",
       "3          699    France  Female   39       1       0.00              2   \n",
       "4          850     Spain  Female   43       2  125510.82              1   \n",
       "\n",
       "   HasCrCard  IsActiveMember  EstimatedSalary  Exited  \n",
       "0          1               1        101348.88       1  \n",
       "1          0               1        112542.58       0  \n",
       "2          1               0        113931.57       1  \n",
       "3          0               0         93826.63       0  \n",
       "4          1               1         79084.10       0  "
      ]
     },
     "execution_count": 4,
     "metadata": {},
     "output_type": "execute_result"
    }
   ],
   "source": [
    "df.drop(['RowNumber','CustomerId','Surname'],inplace=True,axis=1)\n",
    "df.head()"
   ]
  },
  {
   "cell_type": "code",
   "execution_count": 5,
   "metadata": {
    "execution": {
     "iopub.execute_input": "2022-03-08T18:09:37.777920Z",
     "iopub.status.busy": "2022-03-08T18:09:37.777388Z",
     "iopub.status.idle": "2022-03-08T18:09:37.823147Z",
     "shell.execute_reply": "2022-03-08T18:09:37.822322Z",
     "shell.execute_reply.started": "2022-03-08T18:09:37.777865Z"
    }
   },
   "outputs": [
    {
     "data": {
      "text/html": [
       "<div>\n",
       "<style scoped>\n",
       "    .dataframe tbody tr th:only-of-type {\n",
       "        vertical-align: middle;\n",
       "    }\n",
       "\n",
       "    .dataframe tbody tr th {\n",
       "        vertical-align: top;\n",
       "    }\n",
       "\n",
       "    .dataframe thead th {\n",
       "        text-align: right;\n",
       "    }\n",
       "</style>\n",
       "<table border=\"1\" class=\"dataframe\">\n",
       "  <thead>\n",
       "    <tr style=\"text-align: right;\">\n",
       "      <th></th>\n",
       "      <th>CreditScore</th>\n",
       "      <th>Age</th>\n",
       "      <th>Tenure</th>\n",
       "      <th>Balance</th>\n",
       "      <th>NumOfProducts</th>\n",
       "      <th>HasCrCard</th>\n",
       "      <th>IsActiveMember</th>\n",
       "      <th>EstimatedSalary</th>\n",
       "      <th>Exited</th>\n",
       "    </tr>\n",
       "  </thead>\n",
       "  <tbody>\n",
       "    <tr>\n",
       "      <th>count</th>\n",
       "      <td>10000.000000</td>\n",
       "      <td>10000.000000</td>\n",
       "      <td>10000.000000</td>\n",
       "      <td>10000.000000</td>\n",
       "      <td>10000.000000</td>\n",
       "      <td>10000.00000</td>\n",
       "      <td>10000.000000</td>\n",
       "      <td>10000.000000</td>\n",
       "      <td>10000.000000</td>\n",
       "    </tr>\n",
       "    <tr>\n",
       "      <th>mean</th>\n",
       "      <td>650.528800</td>\n",
       "      <td>38.921800</td>\n",
       "      <td>5.012800</td>\n",
       "      <td>76485.889288</td>\n",
       "      <td>1.530200</td>\n",
       "      <td>0.70550</td>\n",
       "      <td>0.515100</td>\n",
       "      <td>100090.239881</td>\n",
       "      <td>0.203700</td>\n",
       "    </tr>\n",
       "    <tr>\n",
       "      <th>std</th>\n",
       "      <td>96.653299</td>\n",
       "      <td>10.487806</td>\n",
       "      <td>2.892174</td>\n",
       "      <td>62397.405202</td>\n",
       "      <td>0.581654</td>\n",
       "      <td>0.45584</td>\n",
       "      <td>0.499797</td>\n",
       "      <td>57510.492818</td>\n",
       "      <td>0.402769</td>\n",
       "    </tr>\n",
       "    <tr>\n",
       "      <th>min</th>\n",
       "      <td>350.000000</td>\n",
       "      <td>18.000000</td>\n",
       "      <td>0.000000</td>\n",
       "      <td>0.000000</td>\n",
       "      <td>1.000000</td>\n",
       "      <td>0.00000</td>\n",
       "      <td>0.000000</td>\n",
       "      <td>11.580000</td>\n",
       "      <td>0.000000</td>\n",
       "    </tr>\n",
       "    <tr>\n",
       "      <th>25%</th>\n",
       "      <td>584.000000</td>\n",
       "      <td>32.000000</td>\n",
       "      <td>3.000000</td>\n",
       "      <td>0.000000</td>\n",
       "      <td>1.000000</td>\n",
       "      <td>0.00000</td>\n",
       "      <td>0.000000</td>\n",
       "      <td>51002.110000</td>\n",
       "      <td>0.000000</td>\n",
       "    </tr>\n",
       "    <tr>\n",
       "      <th>50%</th>\n",
       "      <td>652.000000</td>\n",
       "      <td>37.000000</td>\n",
       "      <td>5.000000</td>\n",
       "      <td>97198.540000</td>\n",
       "      <td>1.000000</td>\n",
       "      <td>1.00000</td>\n",
       "      <td>1.000000</td>\n",
       "      <td>100193.915000</td>\n",
       "      <td>0.000000</td>\n",
       "    </tr>\n",
       "    <tr>\n",
       "      <th>75%</th>\n",
       "      <td>718.000000</td>\n",
       "      <td>44.000000</td>\n",
       "      <td>7.000000</td>\n",
       "      <td>127644.240000</td>\n",
       "      <td>2.000000</td>\n",
       "      <td>1.00000</td>\n",
       "      <td>1.000000</td>\n",
       "      <td>149388.247500</td>\n",
       "      <td>0.000000</td>\n",
       "    </tr>\n",
       "    <tr>\n",
       "      <th>max</th>\n",
       "      <td>850.000000</td>\n",
       "      <td>92.000000</td>\n",
       "      <td>10.000000</td>\n",
       "      <td>250898.090000</td>\n",
       "      <td>4.000000</td>\n",
       "      <td>1.00000</td>\n",
       "      <td>1.000000</td>\n",
       "      <td>199992.480000</td>\n",
       "      <td>1.000000</td>\n",
       "    </tr>\n",
       "  </tbody>\n",
       "</table>\n",
       "</div>"
      ],
      "text/plain": [
       "        CreditScore           Age        Tenure        Balance  NumOfProducts  \\\n",
       "count  10000.000000  10000.000000  10000.000000   10000.000000   10000.000000   \n",
       "mean     650.528800     38.921800      5.012800   76485.889288       1.530200   \n",
       "std       96.653299     10.487806      2.892174   62397.405202       0.581654   \n",
       "min      350.000000     18.000000      0.000000       0.000000       1.000000   \n",
       "25%      584.000000     32.000000      3.000000       0.000000       1.000000   \n",
       "50%      652.000000     37.000000      5.000000   97198.540000       1.000000   \n",
       "75%      718.000000     44.000000      7.000000  127644.240000       2.000000   \n",
       "max      850.000000     92.000000     10.000000  250898.090000       4.000000   \n",
       "\n",
       "         HasCrCard  IsActiveMember  EstimatedSalary        Exited  \n",
       "count  10000.00000    10000.000000     10000.000000  10000.000000  \n",
       "mean       0.70550        0.515100    100090.239881      0.203700  \n",
       "std        0.45584        0.499797     57510.492818      0.402769  \n",
       "min        0.00000        0.000000        11.580000      0.000000  \n",
       "25%        0.00000        0.000000     51002.110000      0.000000  \n",
       "50%        1.00000        1.000000    100193.915000      0.000000  \n",
       "75%        1.00000        1.000000    149388.247500      0.000000  \n",
       "max        1.00000        1.000000    199992.480000      1.000000  "
      ]
     },
     "execution_count": 5,
     "metadata": {},
     "output_type": "execute_result"
    }
   ],
   "source": [
    "df.describe()"
   ]
  },
  {
   "cell_type": "code",
   "execution_count": 6,
   "metadata": {
    "execution": {
     "iopub.execute_input": "2022-03-08T18:11:11.699071Z",
     "iopub.status.busy": "2022-03-08T18:11:11.698766Z",
     "iopub.status.idle": "2022-03-08T18:11:11.719714Z",
     "shell.execute_reply": "2022-03-08T18:11:11.718784Z",
     "shell.execute_reply.started": "2022-03-08T18:11:11.699042Z"
    }
   },
   "outputs": [
    {
     "name": "stdout",
     "output_type": "stream",
     "text": [
      "<class 'pandas.core.frame.DataFrame'>\n",
      "RangeIndex: 10000 entries, 0 to 9999\n",
      "Data columns (total 11 columns):\n",
      " #   Column           Non-Null Count  Dtype  \n",
      "---  ------           --------------  -----  \n",
      " 0   CreditScore      10000 non-null  int64  \n",
      " 1   Geography        10000 non-null  object \n",
      " 2   Gender           10000 non-null  object \n",
      " 3   Age              10000 non-null  int64  \n",
      " 4   Tenure           10000 non-null  int64  \n",
      " 5   Balance          10000 non-null  float64\n",
      " 6   NumOfProducts    10000 non-null  int64  \n",
      " 7   HasCrCard        10000 non-null  int64  \n",
      " 8   IsActiveMember   10000 non-null  int64  \n",
      " 9   EstimatedSalary  10000 non-null  float64\n",
      " 10  Exited           10000 non-null  int64  \n",
      "dtypes: float64(2), int64(7), object(2)\n",
      "memory usage: 859.5+ KB\n"
     ]
    }
   ],
   "source": [
    "df.info()"
   ]
  },
  {
   "cell_type": "code",
   "execution_count": 7,
   "metadata": {
    "execution": {
     "iopub.execute_input": "2022-03-08T18:12:28.059881Z",
     "iopub.status.busy": "2022-03-08T18:12:28.059262Z",
     "iopub.status.idle": "2022-03-08T18:12:28.071817Z",
     "shell.execute_reply": "2022-03-08T18:12:28.070813Z",
     "shell.execute_reply.started": "2022-03-08T18:12:28.059838Z"
    }
   },
   "outputs": [
    {
     "data": {
      "text/plain": [
       "0"
      ]
     },
     "execution_count": 7,
     "metadata": {},
     "output_type": "execute_result"
    }
   ],
   "source": [
    "df.duplicated().sum()"
   ]
  },
  {
   "cell_type": "code",
   "execution_count": 8,
   "metadata": {
    "execution": {
     "iopub.execute_input": "2022-03-08T18:13:32.009695Z",
     "iopub.status.busy": "2022-03-08T18:13:32.009156Z",
     "iopub.status.idle": "2022-03-08T18:13:32.017018Z",
     "shell.execute_reply": "2022-03-08T18:13:32.015916Z",
     "shell.execute_reply.started": "2022-03-08T18:13:32.009654Z"
    }
   },
   "outputs": [],
   "source": [
    "import matplotlib.pyplot as plt\n",
    "%matplotlib inline"
   ]
  },
  {
   "cell_type": "code",
   "execution_count": 9,
   "metadata": {
    "execution": {
     "iopub.execute_input": "2022-03-08T18:15:25.659187Z",
     "iopub.status.busy": "2022-03-08T18:15:25.658854Z",
     "iopub.status.idle": "2022-03-08T18:15:25.877036Z",
     "shell.execute_reply": "2022-03-08T18:15:25.876116Z",
     "shell.execute_reply.started": "2022-03-08T18:15:25.659153Z"
    }
   },
   "outputs": [
    {
     "data": {
      "text/plain": [
       "<AxesSubplot:>"
      ]
     },
     "execution_count": 9,
     "metadata": {},
     "output_type": "execute_result"
    },
    {
     "data": {
      "image/png": "[encoded data removed]",
      "text/plain": [
       "<Figure size 432x288 with 1 Axes>"
      ]
     },
     "metadata": {
      "needs_background": "light"
     },
     "output_type": "display_data"
    }
   ],
   "source": [
    "df['Exited'].value_counts().plot(kind='bar')"
   ]
  },
  {
   "cell_type": "code",
   "execution_count": 10,
   "metadata": {
    "execution": {
     "iopub.execute_input": "2022-03-08T18:16:55.574983Z",
     "iopub.status.busy": "2022-03-08T18:16:55.574375Z",
     "iopub.status.idle": "2022-03-08T18:16:55.755556Z",
     "shell.execute_reply": "2022-03-08T18:16:55.754713Z",
     "shell.execute_reply.started": "2022-03-08T18:16:55.574935Z"
    }
   },
   "outputs": [
    {
     "data": {
      "text/plain": [
       "<AxesSubplot:>"
      ]
     },
     "execution_count": 10,
     "metadata": {},
     "output_type": "execute_result"
    },
    {
     "data": {
      "image/png": "[encoded data removed]",
      "text/plain": [
       "<Figure size 432x288 with 1 Axes>"
      ]
     },
     "metadata": {
      "needs_background": "light"
     },
     "output_type": "display_data"
    }
   ],
   "source": [
    "df['Geography'].value_counts().plot(kind='bar')"
   ]
  },
  {
   "cell_type": "code",
   "execution_count": 11,
   "metadata": {
    "execution": {
     "iopub.execute_input": "2022-03-08T18:18:48.484015Z",
     "iopub.status.busy": "2022-03-08T18:18:48.483254Z",
     "iopub.status.idle": "2022-03-08T18:18:48.498040Z",
     "shell.execute_reply": "2022-03-08T18:18:48.497132Z",
     "shell.execute_reply.started": "2022-03-08T18:18:48.483964Z"
    }
   },
   "outputs": [],
   "source": [
    "df = pd.get_dummies(df,columns=['Geography','Gender'],drop_first=True)"
   ]
  },
  {
   "cell_type": "code",
   "execution_count": 12,
   "metadata": {
    "execution": {
     "iopub.execute_input": "2022-03-08T18:59:29.539567Z",
     "iopub.status.busy": "2022-03-08T18:59:29.538854Z",
     "iopub.status.idle": "2022-03-08T18:59:29.550726Z",
     "shell.execute_reply": "2022-03-08T18:59:29.549804Z",
     "shell.execute_reply.started": "2022-03-08T18:59:29.539522Z"
    }
   },
   "outputs": [],
   "source": [
    "from sklearn.model_selection import train_test_split\n",
    "X = df.drop(columns=['Exited'])\n",
    "y = df['Exited']\n",
    "X_train,X_test,y_train,y_test = train_test_split(X,y,test_size=0.2,random_state=1)"
   ]
  },
  {
   "cell_type": "code",
   "execution_count": 13,
   "metadata": {
    "execution": {
     "iopub.execute_input": "2022-03-08T18:59:30.357781Z",
     "iopub.status.busy": "2022-03-08T18:59:30.356956Z",
     "iopub.status.idle": "2022-03-08T18:59:30.363445Z",
     "shell.execute_reply": "2022-03-08T18:59:30.362591Z",
     "shell.execute_reply.started": "2022-03-08T18:59:30.357730Z"
    }
   },
   "outputs": [
    {
     "data": {
      "text/plain": [
       "(8000, 11)"
      ]
     },
     "execution_count": 13,
     "metadata": {},
     "output_type": "execute_result"
    }
   ],
   "source": [
    "X_train.shape"
   ]
  },
  {
   "cell_type": "code",
   "execution_count": 14,
   "metadata": {
    "execution": {
     "iopub.execute_input": "2022-03-08T18:59:31.947754Z",
     "iopub.status.busy": "2022-03-08T18:59:31.947440Z",
     "iopub.status.idle": "2022-03-08T18:59:31.952484Z",
     "shell.execute_reply": "2022-03-08T18:59:31.951566Z",
     "shell.execute_reply.started": "2022-03-08T18:59:31.947716Z"
    }
   },
   "outputs": [],
   "source": [
    "from sklearn.preprocessing import StandardScaler"
   ]
  },
  {
   "cell_type": "code",
   "execution_count": 15,
   "metadata": {
    "execution": {
     "iopub.execute_input": "2022-03-08T18:59:32.727625Z",
     "iopub.status.busy": "2022-03-08T18:59:32.726929Z",
     "iopub.status.idle": "2022-03-08T18:59:32.741398Z",
     "shell.execute_reply": "2022-03-08T18:59:32.740702Z",
     "shell.execute_reply.started": "2022-03-08T18:59:32.727572Z"
    }
   },
   "outputs": [],
   "source": [
    "scaler = StandardScaler()\n",
    "Xtrain_transform = scaler.fit_transform(X_train)\n",
    "Xtest_transform = scaler.transform(X_test)"
   ]
  },
  {
   "cell_type": "code",
   "execution_count": 16,
   "metadata": {
    "execution": {
     "iopub.execute_input": "2022-03-08T18:59:33.157298Z",
     "iopub.status.busy": "2022-03-08T18:59:33.156809Z",
     "iopub.status.idle": "2022-03-08T18:59:33.164143Z",
     "shell.execute_reply": "2022-03-08T18:59:33.163202Z",
     "shell.execute_reply.started": "2022-03-08T18:59:33.157264Z"
    }
   },
   "outputs": [
    {
     "data": {
      "text/plain": [
       "array([[-0.23082038, -0.94449979, -0.70174202, ...,  1.71490137,\n",
       "        -0.57273139,  0.91509065],\n",
       "       [-0.25150912, -0.94449979, -0.35520275, ..., -0.58312392,\n",
       "        -0.57273139, -1.09278791],\n",
       "       [-0.3963303 ,  0.77498705,  0.33787579, ...,  1.71490137,\n",
       "        -0.57273139, -1.09278791],\n",
       "       ...,\n",
       "       [ 0.22433188,  0.58393295,  1.3774936 , ..., -0.58312392,\n",
       "        -0.57273139, -1.09278791],\n",
       "       [ 0.13123255,  0.01077067,  1.03095433, ..., -0.58312392,\n",
       "        -0.57273139, -1.09278791],\n",
       "       [ 1.1656695 ,  0.29735181,  0.33787579, ...,  1.71490137,\n",
       "        -0.57273139,  0.91509065]])"
      ]
     },
     "execution_count": 16,
     "metadata": {},
     "output_type": "execute_result"
    }
   ],
   "source": [
    "Xtrain_transform"
   ]
  },
  {
   "cell_type": "code",
   "execution_count": 17,
   "metadata": {
    "execution": {
     "iopub.execute_input": "2022-03-08T18:59:33.377621Z",
     "iopub.status.busy": "2022-03-08T18:59:33.376836Z",
     "iopub.status.idle": "2022-03-08T18:59:33.382691Z",
     "shell.execute_reply": "2022-03-08T18:59:33.381710Z",
     "shell.execute_reply.started": "2022-03-08T18:59:33.377577Z"
    }
   },
   "outputs": [],
   "source": [
    "import tensorflow\n",
    "from tensorflow import keras\n",
    "from tensorflow.keras import Sequential\n",
    "from tensorflow.keras.layers import Dense"
   ]
  },
  {
   "cell_type": "code",
   "execution_count": 18,
   "metadata": {
    "execution": {
     "iopub.execute_input": "2022-03-08T18:59:33.837247Z",
     "iopub.status.busy": "2022-03-08T18:59:33.836953Z",
     "iopub.status.idle": "2022-03-08T18:59:33.872237Z",
     "shell.execute_reply": "2022-03-08T18:59:33.871448Z",
     "shell.execute_reply.started": "2022-03-08T18:59:33.837214Z"
    }
   },
   "outputs": [],
   "source": [
    "model = Sequential()\n",
    "model.add(Dense(11,activation='relu',input_dim=11))\n",
    "model.add(Dense(11,activation='relu'))\n",
    "model.add(Dense(1,activation='sigmoid'))"
   ]
  },
  {
   "cell_type": "code",
   "execution_count": 19,
   "metadata": {
    "execution": {
     "iopub.execute_input": "2022-03-08T18:59:34.577665Z",
     "iopub.status.busy": "2022-03-08T18:59:34.577154Z",
     "iopub.status.idle": "2022-03-08T18:59:34.587204Z",
     "shell.execute_reply": "2022-03-08T18:59:34.585857Z",
     "shell.execute_reply.started": "2022-03-08T18:59:34.577632Z"
    }
   },
   "outputs": [
    {
     "name": "stdout",
     "output_type": "stream",
     "text": [
      "Model: \"sequential\"\n",
      "_________________________________________________________________\n",
      " Layer (type)                Output Shape              Param #   \n",
      "=================================================================\n",
      " dense (Dense)               (None, 11)                132       \n",
      "                                                                 \n",
      " dense_1 (Dense)             (None, 11)                132       \n",
      "                                                                 \n",
      " dense_2 (Dense)             (None, 1)                 12        \n",
      "                                                                 \n",
      "=================================================================\n",
      "Total params: 276\n",
      "Trainable params: 276\n",
      "Non-trainable params: 0\n",
      "_________________________________________________________________\n"
     ]
    }
   ],
   "source": [
    "model.summary()"
   ]
  },
  {
   "cell_type": "code",
   "execution_count": 20,
   "metadata": {
    "execution": {
     "iopub.execute_input": "2022-03-08T18:59:35.317403Z",
     "iopub.status.busy": "2022-03-08T18:59:35.316927Z",
     "iopub.status.idle": "2022-03-08T18:59:35.327211Z",
     "shell.execute_reply": "2022-03-08T18:59:35.326397Z",
     "shell.execute_reply.started": "2022-03-08T18:59:35.317348Z"
    }
   },
   "outputs": [],
   "source": [
    "model.compile(loss='binary_crossentropy',optimizer='Adam',metrics=['accuracy'])"
   ]
  },
  {
   "cell_type": "code",
   "execution_count": 21,
   "metadata": {
    "execution": {
     "iopub.execute_input": "2022-03-08T18:59:37.848153Z",
     "iopub.status.busy": "2022-03-08T18:59:37.847847Z",
     "iopub.status.idle": "2022-03-08T19:00:21.692282Z",
     "shell.execute_reply": "2022-03-08T19:00:21.691386Z",
     "shell.execute_reply.started": "2022-03-08T18:59:37.848118Z"
    }
   },
   "outputs": [
    {
     "name": "stdout",
     "output_type": "stream",
     "text": [
      "Epoch 1/100\n",
      "200/200 [==============================] - 3s 7ms/step - loss: 0.5108 - accuracy: 0.7970 - val_loss: 0.4656 - val_accuracy: 0.7969\n",
      "Epoch 2/100\n",
      "200/200 [==============================] - 1s 4ms/step - loss: 0.4529 - accuracy: 0.8009 - val_loss: 0.4381 - val_accuracy: 0.8069\n",
      "Epoch 3/100\n",
      "200/200 [==============================] - 1s 3ms/step - loss: 0.4351 - accuracy: 0.8131 - val_loss: 0.4286 - val_accuracy: 0.8138\n",
      "Epoch 4/100\n",
      "200/200 [==============================] - 1s 4ms/step - loss: 0.4256 - accuracy: 0.8188 - val_loss: 0.4217 - val_accuracy: 0.8194\n",
      "Epoch 5/100\n",
      "200/200 [==============================] - 1s 4ms/step - loss: 0.4179 - accuracy: 0.8248 - val_loss: 0.4146 - val_accuracy: 0.8256\n",
      "Epoch 6/100\n",
      "200/200 [==============================] - 1s 3ms/step - loss: 0.4114 - accuracy: 0.8267 - val_loss: 0.4089 - val_accuracy: 0.8275\n",
      "Epoch 7/100\n",
      "200/200 [==============================] - 1s 4ms/step - loss: 0.4049 - accuracy: 0.8323 - val_loss: 0.4026 - val_accuracy: 0.8294\n",
      "Epoch 8/100\n",
      "200/200 [==============================] - 1s 4ms/step - loss: 0.3979 - accuracy: 0.8370 - val_loss: 0.3939 - val_accuracy: 0.8300\n",
      "Epoch 9/100\n",
      "200/200 [==============================] - 1s 3ms/step - loss: 0.3893 - accuracy: 0.8406 - val_loss: 0.3856 - val_accuracy: 0.8369\n",
      "Epoch 10/100\n",
      "200/200 [==============================] - 1s 4ms/step - loss: 0.3809 - accuracy: 0.8455 - val_loss: 0.3795 - val_accuracy: 0.8413\n",
      "Epoch 11/100\n",
      "200/200 [==============================] - 1s 4ms/step - loss: 0.3718 - accuracy: 0.8520 - val_loss: 0.3689 - val_accuracy: 0.8481\n",
      "Epoch 12/100\n",
      "200/200 [==============================] - 1s 4ms/step - loss: 0.3635 - accuracy: 0.8533 - val_loss: 0.3613 - val_accuracy: 0.8544\n",
      "Epoch 13/100\n",
      "200/200 [==============================] - 1s 4ms/step - loss: 0.3574 - accuracy: 0.8573 - val_loss: 0.3586 - val_accuracy: 0.8556\n",
      "Epoch 14/100\n",
      "200/200 [==============================] - 1s 4ms/step - loss: 0.3533 - accuracy: 0.8583 - val_loss: 0.3537 - val_accuracy: 0.8569\n",
      "Epoch 15/100\n",
      "200/200 [==============================] - 1s 4ms/step - loss: 0.3496 - accuracy: 0.8608 - val_loss: 0.3501 - val_accuracy: 0.8525\n",
      "Epoch 16/100\n",
      "200/200 [==============================] - 1s 4ms/step - loss: 0.3468 - accuracy: 0.8584 - val_loss: 0.3477 - val_accuracy: 0.8550\n",
      "Epoch 17/100\n",
      "200/200 [==============================] - 1s 4ms/step - loss: 0.3447 - accuracy: 0.8616 - val_loss: 0.3479 - val_accuracy: 0.8575\n",
      "Epoch 18/100\n",
      "200/200 [==============================] - 1s 4ms/step - loss: 0.3424 - accuracy: 0.8609 - val_loss: 0.3457 - val_accuracy: 0.8544\n",
      "Epoch 19/100\n",
      "200/200 [==============================] - 1s 4ms/step - loss: 0.3407 - accuracy: 0.8616 - val_loss: 0.3443 - val_accuracy: 0.8575\n",
      "Epoch 20/100\n",
      "200/200 [==============================] - 1s 4ms/step - loss: 0.3396 - accuracy: 0.8606 - val_loss: 0.3438 - val_accuracy: 0.8550\n",
      "Epoch 21/100\n",
      "200/200 [==============================] - 1s 4ms/step - loss: 0.3382 - accuracy: 0.8622 - val_loss: 0.3432 - val_accuracy: 0.8550\n",
      "Epoch 22/100\n",
      "200/200 [==============================] - 1s 4ms/step - loss: 0.3373 - accuracy: 0.8622 - val_loss: 0.3431 - val_accuracy: 0.8550\n",
      "Epoch 23/100\n",
      "200/200 [==============================] - 1s 4ms/step - loss: 0.3363 - accuracy: 0.8616 - val_loss: 0.3412 - val_accuracy: 0.8556\n",
      "Epoch 24/100\n",
      "200/200 [==============================] - 1s 4ms/step - loss: 0.3354 - accuracy: 0.8625 - val_loss: 0.3421 - val_accuracy: 0.8556\n",
      "Epoch 25/100\n",
      "200/200 [==============================] - 1s 4ms/step - loss: 0.3349 - accuracy: 0.8619 - val_loss: 0.3460 - val_accuracy: 0.8544\n",
      "Epoch 26/100\n",
      "200/200 [==============================] - 1s 4ms/step - loss: 0.3346 - accuracy: 0.8622 - val_loss: 0.3423 - val_accuracy: 0.8562\n",
      "Epoch 27/100\n",
      "200/200 [==============================] - 1s 4ms/step - loss: 0.3336 - accuracy: 0.8623 - val_loss: 0.3450 - val_accuracy: 0.8544\n",
      "Epoch 28/100\n",
      "200/200 [==============================] - 1s 3ms/step - loss: 0.3335 - accuracy: 0.8634 - val_loss: 0.3418 - val_accuracy: 0.8544\n",
      "Epoch 29/100\n",
      "200/200 [==============================] - 1s 3ms/step - loss: 0.3330 - accuracy: 0.8611 - val_loss: 0.3415 - val_accuracy: 0.8556\n",
      "Epoch 30/100\n",
      "200/200 [==============================] - 1s 3ms/step - loss: 0.3320 - accuracy: 0.8637 - val_loss: 0.3447 - val_accuracy: 0.8550\n",
      "Epoch 31/100\n",
      "200/200 [==============================] - 1s 3ms/step - loss: 0.3321 - accuracy: 0.8620 - val_loss: 0.3440 - val_accuracy: 0.8544\n",
      "Epoch 32/100\n",
      "200/200 [==============================] - 1s 4ms/step - loss: 0.3320 - accuracy: 0.8622 - val_loss: 0.3443 - val_accuracy: 0.8537\n",
      "Epoch 33/100\n",
      "200/200 [==============================] - 1s 4ms/step - loss: 0.3316 - accuracy: 0.8636 - val_loss: 0.3448 - val_accuracy: 0.8519\n",
      "Epoch 34/100\n",
      "200/200 [==============================] - 1s 4ms/step - loss: 0.3315 - accuracy: 0.8630 - val_loss: 0.3432 - val_accuracy: 0.8525\n",
      "Epoch 35/100\n",
      "200/200 [==============================] - 1s 4ms/step - loss: 0.3311 - accuracy: 0.8627 - val_loss: 0.3448 - val_accuracy: 0.8525\n",
      "Epoch 36/100\n",
      "200/200 [==============================] - 1s 4ms/step - loss: 0.3304 - accuracy: 0.8648 - val_loss: 0.3444 - val_accuracy: 0.8575\n",
      "Epoch 37/100\n",
      "200/200 [==============================] - 1s 4ms/step - loss: 0.3307 - accuracy: 0.8658 - val_loss: 0.3456 - val_accuracy: 0.8525\n",
      "Epoch 38/100\n",
      "200/200 [==============================] - 1s 4ms/step - loss: 0.3304 - accuracy: 0.8641 - val_loss: 0.3423 - val_accuracy: 0.8575\n",
      "Epoch 39/100\n",
      "200/200 [==============================] - 1s 3ms/step - loss: 0.3296 - accuracy: 0.8641 - val_loss: 0.3442 - val_accuracy: 0.8575\n",
      "Epoch 40/100\n",
      "200/200 [==============================] - 1s 4ms/step - loss: 0.3301 - accuracy: 0.8627 - val_loss: 0.3450 - val_accuracy: 0.8525\n",
      "Epoch 41/100\n",
      "200/200 [==============================] - 1s 4ms/step - loss: 0.3292 - accuracy: 0.8642 - val_loss: 0.3441 - val_accuracy: 0.8569\n",
      "Epoch 42/100\n",
      "200/200 [==============================] - 1s 4ms/step - loss: 0.3291 - accuracy: 0.8659 - val_loss: 0.3471 - val_accuracy: 0.8506\n",
      "Epoch 43/100\n",
      "200/200 [==============================] - 1s 4ms/step - loss: 0.3291 - accuracy: 0.8633 - val_loss: 0.3466 - val_accuracy: 0.8512\n",
      "Epoch 44/100\n",
      "200/200 [==============================] - 1s 4ms/step - loss: 0.3287 - accuracy: 0.8630 - val_loss: 0.3441 - val_accuracy: 0.8537\n",
      "Epoch 45/100\n",
      "200/200 [==============================] - 1s 4ms/step - loss: 0.3285 - accuracy: 0.8630 - val_loss: 0.3452 - val_accuracy: 0.8575\n",
      "Epoch 46/100\n",
      "200/200 [==============================] - 1s 4ms/step - loss: 0.3282 - accuracy: 0.8647 - val_loss: 0.3451 - val_accuracy: 0.8544\n",
      "Epoch 47/100\n",
      "200/200 [==============================] - 1s 4ms/step - loss: 0.3278 - accuracy: 0.8634 - val_loss: 0.3454 - val_accuracy: 0.8525\n",
      "Epoch 48/100\n",
      "200/200 [==============================] - 1s 4ms/step - loss: 0.3281 - accuracy: 0.8642 - val_loss: 0.3454 - val_accuracy: 0.8569\n",
      "Epoch 49/100\n",
      "200/200 [==============================] - 1s 4ms/step - loss: 0.3276 - accuracy: 0.8642 - val_loss: 0.3433 - val_accuracy: 0.8581\n",
      "Epoch 50/100\n",
      "200/200 [==============================] - 1s 4ms/step - loss: 0.3274 - accuracy: 0.8647 - val_loss: 0.3456 - val_accuracy: 0.8512\n",
      "Epoch 51/100\n",
      "200/200 [==============================] - 1s 4ms/step - loss: 0.3271 - accuracy: 0.8648 - val_loss: 0.3449 - val_accuracy: 0.8519\n",
      "Epoch 52/100\n",
      "200/200 [==============================] - 1s 4ms/step - loss: 0.3269 - accuracy: 0.8652 - val_loss: 0.3454 - val_accuracy: 0.8544\n",
      "Epoch 53/100\n",
      "200/200 [==============================] - 1s 4ms/step - loss: 0.3269 - accuracy: 0.8639 - val_loss: 0.3480 - val_accuracy: 0.8537\n",
      "Epoch 54/100\n",
      "200/200 [==============================] - 1s 4ms/step - loss: 0.3268 - accuracy: 0.8647 - val_loss: 0.3462 - val_accuracy: 0.8519\n",
      "Epoch 55/100\n",
      "200/200 [==============================] - 1s 3ms/step - loss: 0.3264 - accuracy: 0.8653 - val_loss: 0.3449 - val_accuracy: 0.8550\n",
      "Epoch 56/100\n",
      "200/200 [==============================] - 1s 4ms/step - loss: 0.3258 - accuracy: 0.8647 - val_loss: 0.3464 - val_accuracy: 0.8512\n",
      "Epoch 57/100\n",
      "200/200 [==============================] - 1s 3ms/step - loss: 0.3259 - accuracy: 0.8659 - val_loss: 0.3461 - val_accuracy: 0.8531\n"
     ]
    },
    {
     "name": "stdout",
     "output_type": "stream",
     "text": [
      "Epoch 58/100\n",
      "200/200 [==============================] - 1s 4ms/step - loss: 0.3258 - accuracy: 0.8644 - val_loss: 0.3459 - val_accuracy: 0.8519\n",
      "Epoch 59/100\n",
      "200/200 [==============================] - 1s 3ms/step - loss: 0.3258 - accuracy: 0.8647 - val_loss: 0.3459 - val_accuracy: 0.8525\n",
      "Epoch 60/100\n",
      "200/200 [==============================] - 1s 4ms/step - loss: 0.3255 - accuracy: 0.8656 - val_loss: 0.3468 - val_accuracy: 0.8519\n",
      "Epoch 61/100\n",
      "200/200 [==============================] - 1s 3ms/step - loss: 0.3251 - accuracy: 0.8653 - val_loss: 0.3488 - val_accuracy: 0.8519\n",
      "Epoch 62/100\n",
      "200/200 [==============================] - 1s 4ms/step - loss: 0.3253 - accuracy: 0.8667 - val_loss: 0.3470 - val_accuracy: 0.8519\n",
      "Epoch 63/100\n",
      "200/200 [==============================] - 1s 4ms/step - loss: 0.3250 - accuracy: 0.8650 - val_loss: 0.3478 - val_accuracy: 0.8525\n",
      "Epoch 64/100\n",
      "200/200 [==============================] - 1s 3ms/step - loss: 0.3247 - accuracy: 0.8661 - val_loss: 0.3467 - val_accuracy: 0.8500\n",
      "Epoch 65/100\n",
      "200/200 [==============================] - 1s 3ms/step - loss: 0.3245 - accuracy: 0.8669 - val_loss: 0.3454 - val_accuracy: 0.8556\n",
      "Epoch 66/100\n",
      "200/200 [==============================] - 1s 3ms/step - loss: 0.3252 - accuracy: 0.8634 - val_loss: 0.3477 - val_accuracy: 0.8512\n",
      "Epoch 67/100\n",
      "200/200 [==============================] - 1s 3ms/step - loss: 0.3242 - accuracy: 0.8655 - val_loss: 0.3469 - val_accuracy: 0.8512\n",
      "Epoch 68/100\n",
      "200/200 [==============================] - 1s 3ms/step - loss: 0.3238 - accuracy: 0.8652 - val_loss: 0.3498 - val_accuracy: 0.8512\n",
      "Epoch 69/100\n",
      "200/200 [==============================] - 1s 4ms/step - loss: 0.3240 - accuracy: 0.8662 - val_loss: 0.3470 - val_accuracy: 0.8531\n",
      "Epoch 70/100\n",
      "200/200 [==============================] - 1s 4ms/step - loss: 0.3236 - accuracy: 0.8669 - val_loss: 0.3475 - val_accuracy: 0.8531\n",
      "Epoch 71/100\n",
      "200/200 [==============================] - 1s 3ms/step - loss: 0.3236 - accuracy: 0.8669 - val_loss: 0.3489 - val_accuracy: 0.8519\n",
      "Epoch 72/100\n",
      "200/200 [==============================] - 1s 4ms/step - loss: 0.3235 - accuracy: 0.8673 - val_loss: 0.3476 - val_accuracy: 0.8494\n",
      "Epoch 73/100\n",
      "200/200 [==============================] - 1s 4ms/step - loss: 0.3230 - accuracy: 0.8667 - val_loss: 0.3492 - val_accuracy: 0.8531\n",
      "Epoch 74/100\n",
      "200/200 [==============================] - 1s 3ms/step - loss: 0.3230 - accuracy: 0.8670 - val_loss: 0.3488 - val_accuracy: 0.8562\n",
      "Epoch 75/100\n",
      "200/200 [==============================] - 1s 3ms/step - loss: 0.3232 - accuracy: 0.8667 - val_loss: 0.3488 - val_accuracy: 0.8512\n",
      "Epoch 76/100\n",
      "200/200 [==============================] - 1s 4ms/step - loss: 0.3228 - accuracy: 0.8673 - val_loss: 0.3495 - val_accuracy: 0.8519\n",
      "Epoch 77/100\n",
      "200/200 [==============================] - 1s 3ms/step - loss: 0.3226 - accuracy: 0.8669 - val_loss: 0.3479 - val_accuracy: 0.8531\n",
      "Epoch 78/100\n",
      "200/200 [==============================] - 1s 4ms/step - loss: 0.3223 - accuracy: 0.8666 - val_loss: 0.3494 - val_accuracy: 0.8525\n",
      "Epoch 79/100\n",
      "200/200 [==============================] - 1s 3ms/step - loss: 0.3224 - accuracy: 0.8662 - val_loss: 0.3488 - val_accuracy: 0.8512\n",
      "Epoch 80/100\n",
      "200/200 [==============================] - 1s 4ms/step - loss: 0.3220 - accuracy: 0.8673 - val_loss: 0.3483 - val_accuracy: 0.8519\n",
      "Epoch 81/100\n",
      "200/200 [==============================] - 1s 4ms/step - loss: 0.3219 - accuracy: 0.8669 - val_loss: 0.3497 - val_accuracy: 0.8531\n",
      "Epoch 82/100\n",
      "200/200 [==============================] - 1s 4ms/step - loss: 0.3215 - accuracy: 0.8677 - val_loss: 0.3495 - val_accuracy: 0.8506\n",
      "Epoch 83/100\n",
      "200/200 [==============================] - 1s 4ms/step - loss: 0.3225 - accuracy: 0.8669 - val_loss: 0.3492 - val_accuracy: 0.8525\n",
      "Epoch 84/100\n",
      "200/200 [==============================] - 1s 4ms/step - loss: 0.3220 - accuracy: 0.8658 - val_loss: 0.3482 - val_accuracy: 0.8531\n",
      "Epoch 85/100\n",
      "200/200 [==============================] - 1s 4ms/step - loss: 0.3213 - accuracy: 0.8672 - val_loss: 0.3501 - val_accuracy: 0.8525\n",
      "Epoch 86/100\n",
      "200/200 [==============================] - 1s 4ms/step - loss: 0.3218 - accuracy: 0.8673 - val_loss: 0.3497 - val_accuracy: 0.8500\n",
      "Epoch 87/100\n",
      "200/200 [==============================] - 1s 4ms/step - loss: 0.3218 - accuracy: 0.8672 - val_loss: 0.3493 - val_accuracy: 0.8525\n",
      "Epoch 88/100\n",
      "200/200 [==============================] - 1s 4ms/step - loss: 0.3218 - accuracy: 0.8670 - val_loss: 0.3516 - val_accuracy: 0.8537\n",
      "Epoch 89/100\n",
      "200/200 [==============================] - 1s 4ms/step - loss: 0.3217 - accuracy: 0.8669 - val_loss: 0.3498 - val_accuracy: 0.8525\n",
      "Epoch 90/100\n",
      "200/200 [==============================] - 1s 4ms/step - loss: 0.3216 - accuracy: 0.8695 - val_loss: 0.3500 - val_accuracy: 0.8506\n",
      "Epoch 91/100\n",
      "200/200 [==============================] - 1s 4ms/step - loss: 0.3206 - accuracy: 0.8683 - val_loss: 0.3525 - val_accuracy: 0.8544\n",
      "Epoch 92/100\n",
      "200/200 [==============================] - 1s 4ms/step - loss: 0.3206 - accuracy: 0.8659 - val_loss: 0.3510 - val_accuracy: 0.8512\n",
      "Epoch 93/100\n",
      "200/200 [==============================] - 1s 4ms/step - loss: 0.3208 - accuracy: 0.8675 - val_loss: 0.3508 - val_accuracy: 0.8506\n",
      "Epoch 94/100\n",
      "200/200 [==============================] - 1s 4ms/step - loss: 0.3204 - accuracy: 0.8681 - val_loss: 0.3545 - val_accuracy: 0.8537\n",
      "Epoch 95/100\n",
      "200/200 [==============================] - 1s 4ms/step - loss: 0.3207 - accuracy: 0.8689 - val_loss: 0.3521 - val_accuracy: 0.8506\n",
      "Epoch 96/100\n",
      "200/200 [==============================] - 1s 4ms/step - loss: 0.3204 - accuracy: 0.8661 - val_loss: 0.3502 - val_accuracy: 0.8494\n",
      "Epoch 97/100\n",
      "200/200 [==============================] - 1s 4ms/step - loss: 0.3202 - accuracy: 0.8687 - val_loss: 0.3527 - val_accuracy: 0.8525\n",
      "Epoch 98/100\n",
      "200/200 [==============================] - 1s 4ms/step - loss: 0.3197 - accuracy: 0.8700 - val_loss: 0.3509 - val_accuracy: 0.8500\n",
      "Epoch 99/100\n",
      "200/200 [==============================] - 1s 4ms/step - loss: 0.3205 - accuracy: 0.8667 - val_loss: 0.3516 - val_accuracy: 0.8537\n",
      "Epoch 100/100\n",
      "200/200 [==============================] - 1s 4ms/step - loss: 0.3199 - accuracy: 0.8667 - val_loss: 0.3513 - val_accuracy: 0.8519\n"
     ]
    }
   ],
   "source": [
    "history = model.fit(Xtrain_transform,y_train,epochs=100,validation_split=0.2)"
   ]
  },
  {
   "cell_type": "code",
   "execution_count": 22,
   "metadata": {
    "execution": {
     "iopub.execute_input": "2022-03-08T19:00:55.964318Z",
     "iopub.status.busy": "2022-03-08T19:00:55.963256Z",
     "iopub.status.idle": "2022-03-08T19:00:55.974992Z",
     "shell.execute_reply": "2022-03-08T19:00:55.973993Z",
     "shell.execute_reply.started": "2022-03-08T19:00:55.964272Z"
    }
   },
   "outputs": [
    {
     "data": {
      "text/plain": [
       "[array([[ 3.52410555e-01,  3.61466795e-01, -2.37960190e-01,\n",
       "          2.87027936e-02, -6.53291404e-01, -9.11727324e-02,\n",
       "          1.14949718e-01, -8.04971457e-02, -2.29192134e-02,\n",
       "          5.06673753e-01,  7.58708343e-02],\n",
       "        [ 4.59871769e-01, -1.07146464e-01, -2.10090559e-02,\n",
       "          3.04801732e-01,  5.50868213e-02,  7.93383300e-01,\n",
       "         -4.17653829e-01,  1.37288010e+00,  4.65471476e-01,\n",
       "         -2.62210495e-04, -5.64430475e-01],\n",
       "        [ 1.15411595e-01, -2.33254820e-01,  6.22822165e-01,\n",
       "          3.72089058e-01,  1.59787610e-01, -1.70510611e-03,\n",
       "         -2.44798407e-01,  1.57422662e-01,  1.34643018e-01,\n",
       "         -4.04387921e-01, -7.57112652e-02],\n",
       "        [ 4.65608925e-01, -2.06297889e-01, -4.68125135e-01,\n",
       "         -3.60359810e-02, -1.67179748e-01, -3.27756822e-01,\n",
       "          2.19813064e-01, -1.80151284e-01,  2.44263172e-01,\n",
       "         -4.36524600e-01, -7.75678396e-01],\n",
       "        [ 4.72708821e-01,  8.98039863e-02,  8.17530528e-02,\n",
       "          2.20872052e-02,  7.10839272e-01, -9.23338532e-01,\n",
       "         -1.08473986e-01,  4.17782605e-01,  1.03411233e+00,\n",
       "          6.47595286e-01,  3.51222791e-02],\n",
       "        [-4.47349213e-02, -3.14015090e-01, -3.51189345e-01,\n",
       "          5.58357835e-01,  3.05108875e-01,  5.31883165e-02,\n",
       "          2.41592944e-01,  3.45270306e-01, -3.86883579e-02,\n",
       "          4.49730068e-01,  6.89743578e-01],\n",
       "        [-5.12860656e-01,  2.22116753e-01,  1.24543786e-01,\n",
       "          2.11440325e-01, -4.21368778e-01, -1.66891530e-01,\n",
       "         -7.90814683e-02,  4.60953325e-01,  1.34362772e-01,\n",
       "          5.19632757e-01,  5.07309556e-01],\n",
       "        [-3.09514016e-01, -2.58685142e-01, -3.79644752e-01,\n",
       "          2.01699510e-02,  7.05969408e-02,  8.76893029e-02,\n",
       "          2.31742978e-01, -3.65717337e-02, -6.83025569e-02,\n",
       "          1.42442256e-01, -9.43204239e-02],\n",
       "        [ 2.06034079e-01, -8.21286917e-01,  6.86566159e-02,\n",
       "         -6.07747495e-01, -5.24158895e-01,  2.78704822e-01,\n",
       "          2.87453085e-01, -6.86394982e-03, -2.55445600e-01,\n",
       "          4.73537147e-01, -8.13362360e-01],\n",
       "        [ 1.64420083e-01,  3.34301293e-01, -4.19283479e-01,\n",
       "          5.51868856e-01, -5.18824458e-01, -6.84314594e-02,\n",
       "         -1.20085371e+00, -6.63921759e-02,  1.44603074e-01,\n",
       "          2.14219749e-01,  2.23024845e-01],\n",
       "        [ 6.58222213e-02,  5.43506682e-01,  3.18194360e-01,\n",
       "          8.55341703e-02, -2.59384871e-01,  1.27247078e-02,\n",
       "          1.07272416e-01,  9.43963677e-02, -2.74029579e-02,\n",
       "          3.85112554e-01,  1.18255764e-01]], dtype=float32),\n",
       " array([-0.12139241,  0.5449113 ,  0.3447871 ,  0.08454913,  0.6331751 ,\n",
       "         0.05273762,  0.57117826, -0.47195056, -0.73616827,  0.0918017 ,\n",
       "         0.9339206 ], dtype=float32)]"
      ]
     },
     "execution_count": 22,
     "metadata": {},
     "output_type": "execute_result"
    }
   ],
   "source": [
    "model.layers[0].get_weights()"
   ]
  },
  {
   "cell_type": "code",
   "execution_count": 23,
   "metadata": {
    "execution": {
     "iopub.execute_input": "2022-03-08T19:00:58.100840Z",
     "iopub.status.busy": "2022-03-08T19:00:58.100566Z",
     "iopub.status.idle": "2022-03-08T19:00:58.110049Z",
     "shell.execute_reply": "2022-03-08T19:00:58.109384Z",
     "shell.execute_reply.started": "2022-03-08T19:00:58.100812Z"
    }
   },
   "outputs": [
    {
     "data": {
      "text/plain": [
       "[array([[-0.8765173 , -0.23717585,  0.3479217 , -0.03962481,  0.2083631 ,\n",
       "          0.7220253 ,  0.49318027, -0.03411349, -0.08771318,  0.51006585,\n",
       "          0.20897718],\n",
       "        [ 0.15940885, -0.05887443, -0.10725747,  0.22664815,  0.36373788,\n",
       "         -0.50063825, -0.76053745, -0.67109764, -0.0743432 , -0.26752815,\n",
       "         -0.0574228 ],\n",
       "        [ 0.39418042, -0.41255954,  0.15730074,  0.2889659 , -0.06027862,\n",
       "         -0.15136728,  0.42730066,  0.28086555,  0.42425194, -0.70263535,\n",
       "          0.49142826],\n",
       "        [ 0.45430586, -0.16514276,  0.05577496,  0.29527545,  0.00815756,\n",
       "         -0.04364419,  0.28192425, -0.43473098,  0.03732852, -0.15188794,\n",
       "         -0.17626017],\n",
       "        [-0.18750435, -0.5357139 ,  0.1568331 ,  0.35361984,  0.19077848,\n",
       "          0.09568902,  0.21057096, -0.70816857, -0.26590008,  0.7611988 ,\n",
       "         -0.8294383 ],\n",
       "        [-0.16950792,  0.01349338,  0.686326  , -0.4431897 , -0.24125716,\n",
       "         -0.14017224, -0.10169157,  0.21702248, -0.16385332,  0.66221964,\n",
       "          0.6765824 ],\n",
       "        [-0.12281441, -1.0812982 , -0.60667765, -0.22608607,  0.25724155,\n",
       "         -0.0755882 ,  0.07971154, -0.06014737,  0.12176741, -0.35290682,\n",
       "         -0.3320512 ],\n",
       "        [ 0.5366846 ,  1.1291583 , -0.26091856, -0.35558674, -0.52644587,\n",
       "          0.28221554, -0.74506223,  0.83529943,  0.6761755 , -0.14870684,\n",
       "          0.05835844],\n",
       "        [-0.3581441 ,  0.34869   ,  0.8679465 , -0.8866391 , -0.29171416,\n",
       "         -0.52535665, -0.06635556, -0.30450726, -0.17148055,  0.717931  ,\n",
       "         -0.74513954],\n",
       "        [ 0.25893024, -0.72478795,  0.64949507,  0.62445223,  0.00508374,\n",
       "         -0.45406875, -0.12002139,  0.2529272 ,  0.29929268,  0.6257527 ,\n",
       "         -0.7516659 ],\n",
       "        [-0.1500849 , -0.12165973,  0.5786216 ,  0.05538947,  0.5087321 ,\n",
       "          0.63693726,  0.59123695,  0.5116676 , -0.01916817, -0.28425938,\n",
       "          0.7616767 ]], dtype=float32),\n",
       " array([ 3.5093689e-01, -4.5578957e-02, -1.7734532e-01,  6.4508766e-01,\n",
       "         5.6078368e-01,  1.5252714e-01,  3.0518222e-01, -3.7134063e-01,\n",
       "         1.6757832e-01, -5.4260599e-04,  1.0976282e-01], dtype=float32)]"
      ]
     },
     "execution_count": 23,
     "metadata": {},
     "output_type": "execute_result"
    }
   ],
   "source": [
    "model.layers[1].get_weights()"
   ]
  },
  {
   "cell_type": "code",
   "execution_count": 24,
   "metadata": {
    "execution": {
     "iopub.execute_input": "2022-03-08T19:01:00.491515Z",
     "iopub.status.busy": "2022-03-08T19:01:00.490478Z",
     "iopub.status.idle": "2022-03-08T19:01:00.500153Z",
     "shell.execute_reply": "2022-03-08T19:01:00.499167Z",
     "shell.execute_reply.started": "2022-03-08T19:01:00.491460Z"
    }
   },
   "outputs": [
    {
     "data": {
      "text/plain": [
       "[array([[-0.6664043 ],\n",
       "        [-1.3197027 ],\n",
       "        [ 0.6930156 ],\n",
       "        [-0.94875884],\n",
       "        [-0.77253133],\n",
       "        [-0.3436619 ],\n",
       "        [-0.2637795 ],\n",
       "        [-0.6402942 ],\n",
       "        [-0.21434696],\n",
       "        [ 0.8717126 ],\n",
       "        [ 0.9302092 ]], dtype=float32),\n",
       " array([-0.11452831], dtype=float32)]"
      ]
     },
     "execution_count": 24,
     "metadata": {},
     "output_type": "execute_result"
    }
   ],
   "source": [
    "model.layers[2].get_weights()"
   ]
  },
  {
   "cell_type": "code",
   "execution_count": 25,
   "metadata": {
    "execution": {
     "iopub.execute_input": "2022-03-08T19:01:01.956553Z",
     "iopub.status.busy": "2022-03-08T19:01:01.956213Z",
     "iopub.status.idle": "2022-03-08T19:01:02.115741Z",
     "shell.execute_reply": "2022-03-08T19:01:02.115026Z",
     "shell.execute_reply.started": "2022-03-08T19:01:01.956518Z"
    }
   },
   "outputs": [],
   "source": [
    "y_log = model.predict(Xtest_transform)"
   ]
  },
  {
   "cell_type": "code",
   "execution_count": 26,
   "metadata": {
    "execution": {
     "iopub.execute_input": "2022-03-08T19:01:02.977695Z",
     "iopub.status.busy": "2022-03-08T19:01:02.975985Z",
     "iopub.status.idle": "2022-03-08T19:01:02.982183Z",
     "shell.execute_reply": "2022-03-08T19:01:02.981521Z",
     "shell.execute_reply.started": "2022-03-08T19:01:02.977643Z"
    }
   },
   "outputs": [],
   "source": [
    "y_pred = np.where(y_log>0.5,1,0)"
   ]
  },
  {
   "cell_type": "code",
   "execution_count": 27,
   "metadata": {
    "execution": {
     "iopub.execute_input": "2022-03-08T19:01:03.795858Z",
     "iopub.status.busy": "2022-03-08T19:01:03.795549Z",
     "iopub.status.idle": "2022-03-08T19:01:03.803127Z",
     "shell.execute_reply": "2022-03-08T19:01:03.802082Z",
     "shell.execute_reply.started": "2022-03-08T19:01:03.795818Z"
    }
   },
   "outputs": [
    {
     "data": {
      "text/plain": [
       "array([[0],\n",
       "       [0],\n",
       "       [0],\n",
       "       ...,\n",
       "       [0],\n",
       "       [0],\n",
       "       [0]])"
      ]
     },
     "execution_count": 27,
     "metadata": {},
     "output_type": "execute_result"
    }
   ],
   "source": [
    "y_pred"
   ]
  },
  {
   "cell_type": "code",
   "execution_count": 28,
   "metadata": {
    "execution": {
     "iopub.execute_input": "2022-03-08T19:01:05.086372Z",
     "iopub.status.busy": "2022-03-08T19:01:05.085856Z",
     "iopub.status.idle": "2022-03-08T19:01:05.089869Z",
     "shell.execute_reply": "2022-03-08T19:01:05.088992Z",
     "shell.execute_reply.started": "2022-03-08T19:01:05.086335Z"
    }
   },
   "outputs": [],
   "source": [
    "from sklearn.metrics import accuracy_score"
   ]
  },
  {
   "cell_type": "code",
   "execution_count": 29,
   "metadata": {
    "execution": {
     "iopub.execute_input": "2022-03-08T19:01:06.206929Z",
     "iopub.status.busy": "2022-03-08T19:01:06.206337Z",
     "iopub.status.idle": "2022-03-08T19:01:06.213636Z",
     "shell.execute_reply": "2022-03-08T19:01:06.212980Z",
     "shell.execute_reply.started": "2022-03-08T19:01:06.206888Z"
    }
   },
   "outputs": [
    {
     "data": {
      "text/plain": [
       "0.8665"
      ]
     },
     "execution_count": 29,
     "metadata": {},
     "output_type": "execute_result"
    }
   ],
   "source": [
    "accuracy_score(y_test,y_pred)"
   ]
  },
  {
   "cell_type": "code",
   "execution_count": 30,
   "metadata": {
    "execution": {
     "iopub.execute_input": "2022-03-08T19:01:07.129340Z",
     "iopub.status.busy": "2022-03-08T19:01:07.125769Z",
     "iopub.status.idle": "2022-03-08T19:01:07.144105Z",
     "shell.execute_reply": "2022-03-08T19:01:07.142935Z",
     "shell.execute_reply.started": "2022-03-08T19:01:07.129275Z"
    }
   },
   "outputs": [
    {
     "data": {
      "text/plain": [
       "{'loss': [0.510759711265564,\n",
       "  0.4528643488883972,\n",
       "  0.43505632877349854,\n",
       "  0.42563098669052124,\n",
       "  0.41794630885124207,\n",
       "  0.41138216853141785,\n",
       "  0.40493348240852356,\n",
       "  0.3978797197341919,\n",
       "  0.38934826850891113,\n",
       "  0.38091757893562317,\n",
       "  0.3718333840370178,\n",
       "  0.36351656913757324,\n",
       "  0.3574318289756775,\n",
       "  0.35332733392715454,\n",
       "  0.3495524227619171,\n",
       "  0.3467790484428406,\n",
       "  0.344710111618042,\n",
       "  0.34243571758270264,\n",
       "  0.3406651020050049,\n",
       "  0.33955249190330505,\n",
       "  0.3382425308227539,\n",
       "  0.3373399078845978,\n",
       "  0.3363289535045624,\n",
       "  0.33543169498443604,\n",
       "  0.33494606614112854,\n",
       "  0.3345666527748108,\n",
       "  0.33358263969421387,\n",
       "  0.33347946405410767,\n",
       "  0.33297333121299744,\n",
       "  0.33195334672927856,\n",
       "  0.3321281671524048,\n",
       "  0.3320031464099884,\n",
       "  0.331589937210083,\n",
       "  0.3314998745918274,\n",
       "  0.3311379551887512,\n",
       "  0.3303607106208801,\n",
       "  0.3307047188282013,\n",
       "  0.3303929269313812,\n",
       "  0.32962313294410706,\n",
       "  0.330062597990036,\n",
       "  0.32916364073753357,\n",
       "  0.3291204571723938,\n",
       "  0.3290788233280182,\n",
       "  0.32869186997413635,\n",
       "  0.32853320240974426,\n",
       "  0.32822611927986145,\n",
       "  0.3278398811817169,\n",
       "  0.32809799909591675,\n",
       "  0.32761040329933167,\n",
       "  0.3274029791355133,\n",
       "  0.3271327316761017,\n",
       "  0.3269239664077759,\n",
       "  0.32694512605667114,\n",
       "  0.3268048167228699,\n",
       "  0.3263709247112274,\n",
       "  0.32579943537712097,\n",
       "  0.3258804678916931,\n",
       "  0.32579556107521057,\n",
       "  0.32576557993888855,\n",
       "  0.32547110319137573,\n",
       "  0.32513511180877686,\n",
       "  0.32533127069473267,\n",
       "  0.3250136971473694,\n",
       "  0.3247269093990326,\n",
       "  0.32454201579093933,\n",
       "  0.3251611590385437,\n",
       "  0.32418280839920044,\n",
       "  0.32378044724464417,\n",
       "  0.3239799439907074,\n",
       "  0.3236192464828491,\n",
       "  0.32361900806427,\n",
       "  0.3235497772693634,\n",
       "  0.32302531599998474,\n",
       "  0.32301849126815796,\n",
       "  0.3232211768627167,\n",
       "  0.3228258490562439,\n",
       "  0.32261422276496887,\n",
       "  0.32229629158973694,\n",
       "  0.3224339783191681,\n",
       "  0.32201966643333435,\n",
       "  0.321855366230011,\n",
       "  0.3215288817882538,\n",
       "  0.32248455286026,\n",
       "  0.3220445215702057,\n",
       "  0.32134750485420227,\n",
       "  0.32183006405830383,\n",
       "  0.32179519534111023,\n",
       "  0.3218139708042145,\n",
       "  0.3217371702194214,\n",
       "  0.3216439187526703,\n",
       "  0.32063180208206177,\n",
       "  0.32063180208206177,\n",
       "  0.32082679867744446,\n",
       "  0.32035505771636963,\n",
       "  0.3206709921360016,\n",
       "  0.32040414214134216,\n",
       "  0.32016173005104065,\n",
       "  0.31968891620635986,\n",
       "  0.32052385807037354,\n",
       "  0.3198612332344055],\n",
       " 'accuracy': [0.7970312237739563,\n",
       "  0.8009374737739563,\n",
       "  0.8131250143051147,\n",
       "  0.8187500238418579,\n",
       "  0.8248437643051147,\n",
       "  0.8267187476158142,\n",
       "  0.8323437571525574,\n",
       "  0.8370312452316284,\n",
       "  0.840624988079071,\n",
       "  0.8454687595367432,\n",
       "  0.8520312309265137,\n",
       "  0.8532812595367432,\n",
       "  0.8573437333106995,\n",
       "  0.8582812547683716,\n",
       "  0.8607812523841858,\n",
       "  0.8584374785423279,\n",
       "  0.8615624904632568,\n",
       "  0.8609374761581421,\n",
       "  0.8615624904632568,\n",
       "  0.8606250286102295,\n",
       "  0.8621875047683716,\n",
       "  0.8621875047683716,\n",
       "  0.8615624904632568,\n",
       "  0.862500011920929,\n",
       "  0.8618749976158142,\n",
       "  0.8621875047683716,\n",
       "  0.8623437285423279,\n",
       "  0.8634374737739563,\n",
       "  0.8610937595367432,\n",
       "  0.8637499809265137,\n",
       "  0.8620312213897705,\n",
       "  0.8621875047683716,\n",
       "  0.8635937571525574,\n",
       "  0.8629687428474426,\n",
       "  0.8626562356948853,\n",
       "  0.8648437261581421,\n",
       "  0.8657812476158142,\n",
       "  0.864062488079071,\n",
       "  0.864062488079071,\n",
       "  0.8626562356948853,\n",
       "  0.8642187714576721,\n",
       "  0.8659374713897705,\n",
       "  0.86328125,\n",
       "  0.8629687428474426,\n",
       "  0.8629687428474426,\n",
       "  0.8646875023841858,\n",
       "  0.8634374737739563,\n",
       "  0.8642187714576721,\n",
       "  0.8642187714576721,\n",
       "  0.8646875023841858,\n",
       "  0.8648437261581421,\n",
       "  0.8651562333106995,\n",
       "  0.8639062643051147,\n",
       "  0.8646875023841858,\n",
       "  0.8653125166893005,\n",
       "  0.8646875023841858,\n",
       "  0.8659374713897705,\n",
       "  0.8643749952316284,\n",
       "  0.8646875023841858,\n",
       "  0.8656250238418579,\n",
       "  0.8653125166893005,\n",
       "  0.8667187690734863,\n",
       "  0.8650000095367432,\n",
       "  0.8660937547683716,\n",
       "  0.8668749928474426,\n",
       "  0.8634374737739563,\n",
       "  0.8654687404632568,\n",
       "  0.8651562333106995,\n",
       "  0.8662499785423279,\n",
       "  0.8668749928474426,\n",
       "  0.8668749928474426,\n",
       "  0.8673437237739563,\n",
       "  0.8667187690734863,\n",
       "  0.8670312762260437,\n",
       "  0.8667187690734863,\n",
       "  0.8673437237739563,\n",
       "  0.8668749928474426,\n",
       "  0.8665624856948853,\n",
       "  0.8662499785423279,\n",
       "  0.8673437237739563,\n",
       "  0.8668749928474426,\n",
       "  0.8676562309265137,\n",
       "  0.8668749928474426,\n",
       "  0.8657812476158142,\n",
       "  0.8671875,\n",
       "  0.8673437237739563,\n",
       "  0.8671875,\n",
       "  0.8670312762260437,\n",
       "  0.8668749928474426,\n",
       "  0.8695312738418579,\n",
       "  0.8682812452316284,\n",
       "  0.8659374713897705,\n",
       "  0.8675000071525574,\n",
       "  0.8681250214576721,\n",
       "  0.8689062595367432,\n",
       "  0.8660937547683716,\n",
       "  0.8687499761581421,\n",
       "  0.8700000047683716,\n",
       "  0.8667187690734863,\n",
       "  0.8667187690734863],\n",
       " 'val_loss': [0.4656084179878235,\n",
       "  0.4381396174430847,\n",
       "  0.42863065004348755,\n",
       "  0.4216809868812561,\n",
       "  0.41457077860832214,\n",
       "  0.40889567136764526,\n",
       "  0.40263089537620544,\n",
       "  0.39389273524284363,\n",
       "  0.38556134700775146,\n",
       "  0.379488080739975,\n",
       "  0.36893340945243835,\n",
       "  0.36131545901298523,\n",
       "  0.35857078433036804,\n",
       "  0.353685200214386,\n",
       "  0.3501273989677429,\n",
       "  0.34769976139068604,\n",
       "  0.34792718291282654,\n",
       "  0.3456721007823944,\n",
       "  0.3442797362804413,\n",
       "  0.3437541127204895,\n",
       "  0.3431515097618103,\n",
       "  0.3430911600589752,\n",
       "  0.34124964475631714,\n",
       "  0.3421323299407959,\n",
       "  0.3459808826446533,\n",
       "  0.34226661920547485,\n",
       "  0.34497836232185364,\n",
       "  0.34177860617637634,\n",
       "  0.34152016043663025,\n",
       "  0.3446612060070038,\n",
       "  0.3439893424510956,\n",
       "  0.3443498909473419,\n",
       "  0.34477493166923523,\n",
       "  0.3432220220565796,\n",
       "  0.3448116183280945,\n",
       "  0.3444001078605652,\n",
       "  0.3455684185028076,\n",
       "  0.3423475921154022,\n",
       "  0.34416526556015015,\n",
       "  0.34495821595191956,\n",
       "  0.34412795305252075,\n",
       "  0.34705764055252075,\n",
       "  0.34660080075263977,\n",
       "  0.3440905511379242,\n",
       "  0.3452001214027405,\n",
       "  0.34507450461387634,\n",
       "  0.34535640478134155,\n",
       "  0.34536391496658325,\n",
       "  0.3432938754558563,\n",
       "  0.3456428647041321,\n",
       "  0.34492728114128113,\n",
       "  0.3454204797744751,\n",
       "  0.3480415642261505,\n",
       "  0.3462044894695282,\n",
       "  0.3449038565158844,\n",
       "  0.34637680649757385,\n",
       "  0.34611278772354126,\n",
       "  0.34587791562080383,\n",
       "  0.345889687538147,\n",
       "  0.3467591106891632,\n",
       "  0.3487708568572998,\n",
       "  0.34698960185050964,\n",
       "  0.3477753698825836,\n",
       "  0.34673988819122314,\n",
       "  0.34536808729171753,\n",
       "  0.3477434813976288,\n",
       "  0.34686049818992615,\n",
       "  0.3498419225215912,\n",
       "  0.3469885289669037,\n",
       "  0.3474609851837158,\n",
       "  0.34889480471611023,\n",
       "  0.34758126735687256,\n",
       "  0.34924185276031494,\n",
       "  0.3488389849662781,\n",
       "  0.34880203008651733,\n",
       "  0.3495417833328247,\n",
       "  0.34789496660232544,\n",
       "  0.3494325876235962,\n",
       "  0.34878087043762207,\n",
       "  0.34829625487327576,\n",
       "  0.34971609711647034,\n",
       "  0.34953364729881287,\n",
       "  0.3492218852043152,\n",
       "  0.3481898605823517,\n",
       "  0.3501301109790802,\n",
       "  0.34974396228790283,\n",
       "  0.34931790828704834,\n",
       "  0.3515748679637909,\n",
       "  0.34977394342422485,\n",
       "  0.35000333189964294,\n",
       "  0.35252484679222107,\n",
       "  0.350983202457428,\n",
       "  0.35075363516807556,\n",
       "  0.35445740818977356,\n",
       "  0.35208773612976074,\n",
       "  0.3501700460910797,\n",
       "  0.352728009223938,\n",
       "  0.35088834166526794,\n",
       "  0.35155391693115234,\n",
       "  0.35133323073387146],\n",
       " 'val_accuracy': [0.796875,\n",
       "  0.8068749904632568,\n",
       "  0.8137500286102295,\n",
       "  0.8193749785423279,\n",
       "  0.8256250023841858,\n",
       "  0.8274999856948853,\n",
       "  0.8293750286102295,\n",
       "  0.8299999833106995,\n",
       "  0.8368750214576721,\n",
       "  0.8412500023841858,\n",
       "  0.8481249809265137,\n",
       "  0.8543750047683716,\n",
       "  0.8556249737739563,\n",
       "  0.8568750023841858,\n",
       "  0.8525000214576721,\n",
       "  0.8550000190734863,\n",
       "  0.8575000166893005,\n",
       "  0.8543750047683716,\n",
       "  0.8575000166893005,\n",
       "  0.8550000190734863,\n",
       "  0.8550000190734863,\n",
       "  0.8550000190734863,\n",
       "  0.8556249737739563,\n",
       "  0.8556249737739563,\n",
       "  0.8543750047683716,\n",
       "  0.856249988079071,\n",
       "  0.8543750047683716,\n",
       "  0.8543750047683716,\n",
       "  0.8556249737739563,\n",
       "  0.8550000190734863,\n",
       "  0.8543750047683716,\n",
       "  0.8537499904632568,\n",
       "  0.8518750071525574,\n",
       "  0.8525000214576721,\n",
       "  0.8525000214576721,\n",
       "  0.8575000166893005,\n",
       "  0.8525000214576721,\n",
       "  0.8575000166893005,\n",
       "  0.8575000166893005,\n",
       "  0.8525000214576721,\n",
       "  0.8568750023841858,\n",
       "  0.8506249785423279,\n",
       "  0.8512499928474426,\n",
       "  0.8537499904632568,\n",
       "  0.8575000166893005,\n",
       "  0.8543750047683716,\n",
       "  0.8525000214576721,\n",
       "  0.8568750023841858,\n",
       "  0.8581249713897705,\n",
       "  0.8512499928474426,\n",
       "  0.8518750071525574,\n",
       "  0.8543750047683716,\n",
       "  0.8537499904632568,\n",
       "  0.8518750071525574,\n",
       "  0.8550000190734863,\n",
       "  0.8512499928474426,\n",
       "  0.8531249761581421,\n",
       "  0.8518750071525574,\n",
       "  0.8525000214576721,\n",
       "  0.8518750071525574,\n",
       "  0.8518750071525574,\n",
       "  0.8518750071525574,\n",
       "  0.8525000214576721,\n",
       "  0.8500000238418579,\n",
       "  0.8556249737739563,\n",
       "  0.8512499928474426,\n",
       "  0.8512499928474426,\n",
       "  0.8512499928474426,\n",
       "  0.8531249761581421,\n",
       "  0.8531249761581421,\n",
       "  0.8518750071525574,\n",
       "  0.8493750095367432,\n",
       "  0.8531249761581421,\n",
       "  0.856249988079071,\n",
       "  0.8512499928474426,\n",
       "  0.8518750071525574,\n",
       "  0.8531249761581421,\n",
       "  0.8525000214576721,\n",
       "  0.8512499928474426,\n",
       "  0.8518750071525574,\n",
       "  0.8531249761581421,\n",
       "  0.8506249785423279,\n",
       "  0.8525000214576721,\n",
       "  0.8531249761581421,\n",
       "  0.8525000214576721,\n",
       "  0.8500000238418579,\n",
       "  0.8525000214576721,\n",
       "  0.8537499904632568,\n",
       "  0.8525000214576721,\n",
       "  0.8506249785423279,\n",
       "  0.8543750047683716,\n",
       "  0.8512499928474426,\n",
       "  0.8506249785423279,\n",
       "  0.8537499904632568,\n",
       "  0.8506249785423279,\n",
       "  0.8493750095367432,\n",
       "  0.8525000214576721,\n",
       "  0.8500000238418579,\n",
       "  0.8537499904632568,\n",
       "  0.8518750071525574]}"
      ]
     },
     "execution_count": 30,
     "metadata": {},
     "output_type": "execute_result"
    }
   ],
   "source": [
    "history.history"
   ]
  },
  {
   "cell_type": "code",
   "execution_count": 31,
   "metadata": {
    "execution": {
     "iopub.execute_input": "2022-03-08T19:01:08.466316Z",
     "iopub.status.busy": "2022-03-08T19:01:08.465837Z",
     "iopub.status.idle": "2022-03-08T19:01:08.670232Z",
     "shell.execute_reply": "2022-03-08T19:01:08.669498Z",
     "shell.execute_reply.started": "2022-03-08T19:01:08.466262Z"
    }
   },
   "outputs": [
    {
     "data": {
      "text/plain": [
       "[<matplotlib.lines.Line2D at 0x1acb72979a0>]"
      ]
     },
     "execution_count": 31,
     "metadata": {},
     "output_type": "execute_result"
    },
    {
     "data": {
      "image/png": "[encoded data removed]",
      "text/plain": [
       "<Figure size 432x288 with 1 Axes>"
      ]
     },
     "metadata": {
      "needs_background": "light"
     },
     "output_type": "display_data"
    }
   ],
   "source": [
    "plt.plot(history.history['loss'])\n",
    "plt.plot(history.history['val_loss'])"
   ]
  },
  {
   "cell_type": "code",
   "execution_count": 32,
   "metadata": {
    "execution": {
     "iopub.execute_input": "2022-03-08T19:01:50.906968Z",
     "iopub.status.busy": "2022-03-08T19:01:50.906399Z",
     "iopub.status.idle": "2022-03-08T19:01:51.113771Z",
     "shell.execute_reply": "2022-03-08T19:01:51.112904Z",
     "shell.execute_reply.started": "2022-03-08T19:01:50.906913Z"
    }
   },
   "outputs": [
    {
     "data": {
      "text/plain": [
       "[<matplotlib.lines.Line2D at 0x1acb98cce20>]"
      ]
     },
     "execution_count": 32,
     "metadata": {},
     "output_type": "execute_result"
    },
    {
     "data": {
      "image/png": "[encoded data removed]",
      "text/plain": [
       "<Figure size 432x288 with 1 Axes>"
      ]
     },
     "metadata": {
      "needs_background": "light"
     },
     "output_type": "display_data"
    }
   ],
   "source": [
    "plt.plot(history.history['accuracy'])\n",
    "plt.plot(history.history['val_accuracy'])"
   ]
  },
  {
   "cell_type": "code",
   "execution_count": null,
   "metadata": {},
   "outputs": [],
   "source": []
  }
 ],
 "metadata": {
  "kernelspec": {
   "display_name": "Python 3",
   "language": "python",
   "name": "python3"
  },
  "language_info": {
   "codemirror_mode": {
    "name": "ipython",
    "version": 3
   },
   "file_extension": ".py",
   "mimetype": "text/x-python",
   "name": "python",
   "nbconvert_exporter": "python",
   "pygments_lexer": "ipython3",
   "version": "3.8.8"
  }
 },
 "nbformat": 4,
 "nbformat_minor": 4
}
